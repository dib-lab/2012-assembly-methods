{
 "metadata": {
  "name": "ngs-71-hmp-partition-tested"
 },
 "nbformat": 3,
 "worksheets": [
  {
   "cells": [
    {
     "cell_type": "markdown",
     "source": "## Partitioning the HMP mock data set\n\nPartitioning breaks your data set into many smaller chunks so that they can be assembled more easily.  See the k-mer percolation paper\n(at http://ivory.idyll.org/blog/dec-11/kmer-percolation-posted.html) for more information.\n\nHere we are starting with the 'keep.abundfilt' files from the previous tutorial."
    },
    {
     "cell_type": "code",
     "input": "cd /test/tutorial-files/",
     "language": "python",
     "outputs": [
      {
       "output_type": "stream",
       "stream": "stdout",
       "text": "/test/tutorial-files\n"
      }
     ],
     "prompt_number": 1
    },
    {
     "cell_type": "code",
     "input": "!ls ",
     "language": "python",
     "outputs": [
      {
       "output_type": "stream",
       "stream": "stdout",
       "text": "mock-pass1.kh  SRR172903.fastq.gz.keep\npass1.report   SRR172903.fastq.gz.keep.below\n"
      }
     ],
     "prompt_number": 2
    },
    {
     "cell_type": "markdown",
     "source": "The *keep file is the diginormed file.  The *below file is the high abundance filtered file (previously diginormed).  We'll work with the *below file for partitioning."
    },
    {
     "cell_type": "markdown",
     "source": "### Initial round of partitioning"
    },
    {
     "cell_type": "code",
     "input": "!/usr/local/src/khmer/scripts/load-graph.py -k 32 -N 4 -x 1e9 /test/tutorial-files/mock.part1 *.keep.below",
     "language": "python",
     "outputs": [
      {
       "output_type": "stream",
       "stream": "stdout",
       "text": "\nPARAMETERS:\n - kmer size =    32 \t\t(-k)\n - n hashes =     4 \t\t(-N)\n - min hashsize = 1e+09 \t(-x)\n\nEstimated memory usage is 5e+08 bytes (n_hashes x min_hashsize / 8)\n--------\nSaving hashtable to /test/tutorial-files/mock.part1\nLoading kmers from sequences in ['SRR172903.fastq.gz.keep.below']\nWe WILL build the tagset (for partitioning/traversal).\nmaking hashtable\n"
      },
      {
       "output_type": "stream",
       "stream": "stdout",
       "text": "consuming input SRR172903.fastq.gz.keep.below\n"
      },
      {
       "output_type": "stream",
       "stream": "stdout",
       "text": "n tags: 173339\n... consume_fasta_and_tag 100000 3741212\n"
      },
      {
       "output_type": "stream",
       "stream": "stdout",
       "text": "n tags: 331081\n... consume_fasta_and_tag 200000 6999381\n"
      },
      {
       "output_type": "stream",
       "stream": "stdout",
       "text": "n tags: 478735\n... consume_fasta_and_tag 300000 9934364\n"
      },
      {
       "output_type": "stream",
       "stream": "stdout",
       "text": "n tags: 618123\n... consume_fasta_and_tag 400000 12608998\n"
      },
      {
       "output_type": "stream",
       "stream": "stdout",
       "text": "n tags: 750486\n... consume_fasta_and_tag 500000 15075380\n"
      },
      {
       "output_type": "stream",
       "stream": "stdout",
       "text": "n tags: 878322\n... consume_fasta_and_tag 600000 17402849\n"
      },
      {
       "output_type": "stream",
       "stream": "stdout",
       "text": "n tags: 1000104\n... consume_fasta_and_tag 700000 19562100\n"
      },
      {
       "output_type": "stream",
       "stream": "stdout",
       "text": "n tags: 1118520\n... consume_fasta_and_tag 800000 21640685\n"
      },
      {
       "output_type": "stream",
       "stream": "stdout",
       "text": "n tags: 1233477\n... consume_fasta_and_tag 900000 23642413\n"
      },
      {
       "output_type": "stream",
       "stream": "stdout",
       "text": "n tags: 1345752\n... consume_fasta_and_tag 1000000 25572425\n"
      },
      {
       "output_type": "stream",
       "stream": "stdout",
       "text": "n tags: 1453688\n... consume_fasta_and_tag 1100000 27401883\n"
      },
      {
       "output_type": "stream",
       "stream": "stdout",
       "text": "n tags: 1555629\n... consume_fasta_and_tag 1200000 29083819\n"
      },
      {
       "output_type": "stream",
       "stream": "stdout",
       "text": "n tags: 1657186\n... consume_fasta_and_tag 1300000 30781061\n"
      },
      {
       "output_type": "stream",
       "stream": "stdout",
       "text": "n tags: 1761866\n... consume_fasta_and_tag 1400000 32598915\n"
      },
      {
       "output_type": "stream",
       "stream": "stdout",
       "text": "n tags: 1856796\n... consume_fasta_and_tag 1500000 34133496\n"
      },
      {
       "output_type": "stream",
       "stream": "stdout",
       "text": "n tags: 1949962\n... consume_fasta_and_tag 1600000 35644956\n"
      },
      {
       "output_type": "stream",
       "stream": "stdout",
       "text": "n tags: 2054990\n... consume_fasta_and_tag 1700000 37524893\n"
      },
      {
       "output_type": "stream",
       "stream": "stdout",
       "text": "n tags: 2146884\n... consume_fasta_and_tag 1800000 39023347\n"
      },
      {
       "output_type": "stream",
       "stream": "stdout",
       "text": "n tags: 2246848\n... consume_fasta_and_tag 1900000 40794224\n"
      },
      {
       "output_type": "stream",
       "stream": "stdout",
       "text": "n tags: 2349898\n... consume_fasta_and_tag 2000000 42651231\n"
      },
      {
       "output_type": "stream",
       "stream": "stdout",
       "text": "n tags: 2475005\n... consume_fasta_and_tag 2100000 45207089\n"
      },
      {
       "output_type": "stream",
       "stream": "stdout",
       "text": "n tags: 2573712\n... consume_fasta_and_tag 2200000 46949732\n"
      },
      {
       "output_type": "stream",
       "stream": "stdout",
       "text": "n tags: 2662785\n... consume_fasta_and_tag 2300000 48418135\n"
      },
      {
       "output_type": "stream",
       "stream": "stdout",
       "text": "n tags: 2753173\n... consume_fasta_and_tag 2400000 49912426\n"
      },
      {
       "output_type": "stream",
       "stream": "stdout",
       "text": "n tags: 2862516\n... consume_fasta_and_tag 2500000 52019582\n"
      },
      {
       "output_type": "stream",
       "stream": "stdout",
       "text": "n tags: 2958757\n... consume_fasta_and_tag 2600000 53709507\n"
      },
      {
       "output_type": "stream",
       "stream": "stdout",
       "text": "n tags: 3076083\n... consume_fasta_and_tag 2700000 56066157\n"
      },
      {
       "output_type": "stream",
       "stream": "stdout",
       "text": "n tags: 3182492\n... consume_fasta_and_tag 2800000 58049025\n"
      },
      {
       "output_type": "stream",
       "stream": "stdout",
       "text": "n tags: 3278634\n... consume_fasta_and_tag 2900000 59731112\n"
      },
      {
       "output_type": "stream",
       "stream": "stdout",
       "text": "n tags: 3374429\n... consume_fasta_and_tag 3000000 61400767\n"
      },
      {
       "output_type": "stream",
       "stream": "stdout",
       "text": "n tags: 3468657\n... consume_fasta_and_tag 3100000 63026253\n"
      },
      {
       "output_type": "stream",
       "stream": "stdout",
       "text": "n tags: 3561344\n... consume_fasta_and_tag 3200000 64618636\n"
      },
      {
       "output_type": "stream",
       "stream": "stdout",
       "text": "n tags: 3655717\n... consume_fasta_and_tag 3300000 66264730\n"
      },
      {
       "output_type": "stream",
       "stream": "stdout",
       "text": "n tags: 3762370\n... consume_fasta_and_tag 3400000 68248082\n"
      },
      {
       "output_type": "stream",
       "stream": "stdout",
       "text": "n tags: 3872647\n... consume_fasta_and_tag 3500000 70337348\n"
      },
      {
       "output_type": "stream",
       "stream": "stdout",
       "text": "n tags: 3998433\n... consume_fasta_and_tag 3600000 73025549\n"
      },
      {
       "output_type": "stream",
       "stream": "stdout",
       "text": "n tags: 4104092\n... consume_fasta_and_tag 3700000 75018507\n"
      },
      {
       "output_type": "stream",
       "stream": "stdout",
       "text": "n tags: 4207519\n... consume_fasta_and_tag 3800000 76938328\n"
      },
      {
       "output_type": "stream",
       "stream": "stdout",
       "text": "n tags: 4310757\n... consume_fasta_and_tag 3900000 78846812\n"
      },
      {
       "output_type": "stream",
       "stream": "stdout",
       "text": "n tags: 4416067\n... consume_fasta_and_tag 4000000 80809556\n"
      },
      {
       "output_type": "stream",
       "stream": "stdout",
       "text": "n tags: 4520778\n... consume_fasta_and_tag 4100000 82758527\n"
      },
      {
       "output_type": "stream",
       "stream": "stdout",
       "text": "n tags: 4626628\n... consume_fasta_and_tag 4200000 84738555\n"
      },
      {
       "output_type": "stream",
       "stream": "stdout",
       "text": "n tags: 4733922\n... consume_fasta_and_tag 4300000 86756232\n"
      },
      {
       "output_type": "stream",
       "stream": "stdout",
       "text": "n tags: 4843321\n... consume_fasta_and_tag 4400000 88844404\n"
      },
      {
       "output_type": "stream",
       "stream": "stdout",
       "text": "n tags: 4955072\n... consume_fasta_and_tag 4500000 91010330\n"
      },
      {
       "output_type": "stream",
       "stream": "stdout",
       "text": "n tags: 5074409\n... consume_fasta_and_tag 4600000 93393271\n"
      },
      {
       "output_type": "stream",
       "stream": "stdout",
       "text": "saving hashtable in /test/tutorial-files/mock.part1.ht\n"
      },
      {
       "output_type": "stream",
       "stream": "stdout",
       "text": "saving tagset in /test/tutorial-files/mock.part1.tagset\n"
      },
      {
       "output_type": "stream",
       "stream": "stdout",
       "text": "fp rate estimated to be 0.000\n"
      }
     ],
     "prompt_number": 3
    },
    {
     "cell_type": "code",
     "input": "!/usr/local/src/khmer/scripts/partition-graph.py --threads 8 -s 1e5 /test/tutorial-files/mock.part1",
     "language": "python",
     "outputs": [
      {
       "output_type": "stream",
       "stream": "stdout",
       "text": "--\nSUBSET SIZE 100000.0\nN THREADS 8\n--\nloading ht /test/tutorial-files/mock.part1.ht\n"
      },
      {
       "output_type": "stream",
       "stream": "stdout",
       "text": "** Traverse all the things: stop_big_traversals is false.\n"
      },
      {
       "output_type": "stream",
       "stream": "stdout",
       "text": "enqueued 51 subset tasks\nstarting 8 threads\n---\nstarting: /test/tutorial-files/mock.part1 0\nstarting: /test/tutorial-files/mock.part1 1\nstarting: /test/tutorial-files/mock.part1 2\nstarting: /test/tutorial-files/mock.part1 3\n"
      },
      {
       "output_type": "stream",
       "stream": "stdout",
       "text": "starting: /test/tutorial-files/mock.part1 4\nstarting: /test/tutorial-files/mock.part1 5\nstarting: /test/tutorial-files/mock.part1 6\ndone starting threads\nstarting: /test/tutorial-files/mock.part1 7\n"
      },
      {
       "output_type": "stream",
       "stream": "stdout",
       "text": "...subset-part 608325372573204944-875280618668052438: 100000 <- 88135\nsaving: /test/tutorial-files/mock.part1 4\n"
      },
      {
       "output_type": "stream",
       "stream": "stdout",
       "text": "starting: /test/tutorial-files/mock.part1 8\n"
      },
      {
       "output_type": "stream",
       "stream": "stdout",
       "text": "...subset-part 16777984-94137232714629893: 100000 <- 81154\nsaving: /test/tutorial-files/mock.part1 0\n"
      },
      {
       "output_type": "stream",
       "stream": "stdout",
       "text": "...subset-part 94137232714629893-260207897496116208: 100000 <- 86167\nsaving: /test/tutorial-files/mock.part1 1\n"
      },
      {
       "output_type": "stream",
       "stream": "stdout",
       "text": "starting: /test/tutorial-files/mock.part1 9\nstarting: /test/tutorial-files/mock.part1 10\n"
      },
      {
       "output_type": "stream",
       "stream": "stdout",
       "text": "...subset-part 260207897496116208-409737121305374142: 100000 <- 84020\nsaving: /test/tutorial-files/mock.part1 2\n"
      },
      {
       "output_type": "stream",
       "stream": "stdout",
       "text": "starting: /test/tutorial-files/mock.part1 11\n"
      },
      {
       "output_type": "stream",
       "stream": "stdout",
       "text": "...subset-part 1110096598908202681-1297623081413842401: 100000 <- 84884\nsaving: /test/tutorial-files/mock.part1 6\n"
      },
      {
       "output_type": "stream",
       "stream": "stdout",
       "text": "...subset-part 1297623081413842401-1531300088663273228: 100000 <- 85728\nsaving: /test/tutorial-files/mock.part1 7\n"
      },
      {
       "output_type": "stream",
       "stream": "stdout",
       "text": "starting: /test/tutorial-files/mock.part1 12\n"
      },
      {
       "output_type": "stream",
       "stream": "stdout",
       "text": "...subset-part 875280618668052438-1110096598908202681: 100000 <- 88032\nsaving: /test/tutorial-files/mock.part1 5\n"
      },
      {
       "output_type": "stream",
       "stream": "stdout",
       "text": "...subset-part 409737121305374142-608325372573204944: 100000 <- 85647\n"
      },
      {
       "output_type": "stream",
       "stream": "stdout",
       "text": "saving: /test/tutorial-files/mock.part1 3\n starting: /test/tutorial-files/mock.part1 13\n"
      },
      {
       "output_type": "stream",
       "stream": "stdout",
       "text": "starting: /test/tutorial-files/mock.part1 14\n"
      },
      {
       "output_type": "stream",
       "stream": "stdout",
       "text": "starting: /test/tutorial-files/mock.part1 15\n"
      },
      {
       "output_type": "stream",
       "stream": "stdout",
       "text": "...subset-part 1531300088663273228-1732089634563558140: 100000 <- 86171\nsaving: /test/tutorial-files/mock.part1 8\n"
      },
      {
       "output_type": "stream",
       "stream": "stdout",
       "text": "starting: /test/tutorial-files/mock.part1 16\n"
      },
      {
       "output_type": "stream",
       "stream": "stdout",
       "text": "...subset-part 1732089634563558140-1859649043415500255: 100000 <- 87256\nsaving: /test/tutorial-files/mock.part1 9\n"
      },
      {
       "output_type": "stream",
       "stream": "stdout",
       "text": "starting: /test/tutorial-files/mock.part1 17\n"
      },
      {
       "output_type": "stream",
       "stream": "stdout",
       "text": "...subset-part 2306518342785591497-2644758356675095272: 100000 <- 87789\nsaving: /test/tutorial-files/mock.part1 12\n"
      },
      {
       "output_type": "stream",
       "stream": "stdout",
       "text": "starting: /test/tutorial-files/mock.part1 18\n"
      },
      {
       "output_type": "stream",
       "stream": "stdout",
       "text": "...subset-part 2644758356675095272-3004050199097019834: 100000 <- 88717\n"
      },
      {
       "output_type": "stream",
       "stream": "stdout",
       "text": "saving: /test/tutorial-files/mock.part1 13\n"
      },
      {
       "output_type": "stream",
       "stream": "stdout",
       "text": "...subset-part 2049400903460208816-2306518342785591497: 100000 <- 87383\nsaving: /test/tutorial-files/mock.part1 11\n"
      },
      {
       "output_type": "stream",
       "stream": "stdout",
       "text": "...subset-part 3261770092864709950-3537229543903104406: 100000 <- 88267\n"
      },
      {
       "output_type": "stream",
       "stream": "stdout",
       "text": "saving: /test/tutorial-files/mock.part1 15\n"
      },
      {
       "output_type": "stream",
       "stream": "stdout",
       "text": "starting: /test/tutorial-files/mock.part1 19starting: /test/tutorial-files/mock.part1 20\n\n"
      },
      {
       "output_type": "stream",
       "stream": "stdout",
       "text": "starting: /test/tutorial-files/mock.part1 21\n"
      },
      {
       "output_type": "stream",
       "stream": "stdout",
       "text": "...subset-part 1859649043415500255-2049400903460208816: 100000 <- 86683\nsaving: /test/tutorial-files/mock.part1 10\n"
      },
      {
       "output_type": "stream",
       "stream": "stdout",
       "text": "starting: /test/tutorial-files/mock.part1 22\n"
      },
      {
       "output_type": "stream",
       "stream": "stdout",
       "text": "...subset-part 3004050199097019834-3261770092864709950: 100000 <- 86968\nsaving: /test/tutorial-files/mock.part1 14\n"
      },
      {
       "output_type": "stream",
       "stream": "stdout",
       "text": "starting: /test/tutorial-files/mock.part1 23\n"
      },
      {
       "output_type": "stream",
       "stream": "stdout",
       "text": "...subset-part 3537229543903104406-3883333354027009776: 100000 <- 88367\nsaving: /test/tutorial-files/mock.part1 16\n"
      },
      {
       "output_type": "stream",
       "stream": "stdout",
       "text": "starting: /test/tutorial-files/mock.part1 24\n"
      },
      {
       "output_type": "stream",
       "stream": "stdout",
       "text": "...subset-part 3883333354027009776-4209144081561864332: 100000 <- 87991\nsaving: /test/tutorial-files/mock.part1 17\n"
      },
      {
       "output_type": "stream",
       "stream": "stdout",
       "text": "...subset-part 4684895333112905664-4995697692860048572: 100000 <- 83550\n"
      },
      {
       "output_type": "stream",
       "stream": "stdout",
       "text": "saving: /test/tutorial-files/mock.part1 20\n"
      },
      {
       "output_type": "stream",
       "stream": "stdout",
       "text": "starting: /test/tutorial-files/mock.part1 25\n"
      },
      {
       "output_type": "stream",
       "stream": "stdout",
       "text": "starting: /test/tutorial-files/mock.part1 26\n"
      },
      {
       "output_type": "stream",
       "stream": "stdout",
       "text": "...subset-part 4995697692860048572-5357121369695934211: 100000 <- 86501\nsaving: /test/tutorial-files/mock.part1 21\n"
      },
      {
       "output_type": "stream",
       "stream": "stdout",
       "text": "starting: /test/tutorial-files/mock.part1 27\n"
      },
      {
       "output_type": "stream",
       "stream": "stdout",
       "text": "...subset-part 5357121369695934211-5800693503835845052: 100000 <- 88304\nsaving: /test/tutorial-files/mock.part1 22\n"
      },
      {
       "output_type": "stream",
       "stream": "stdout",
       "text": "starting: /test/tutorial-files/mock.part1 28\n"
      },
      {
       "output_type": "stream",
       "stream": "stdout",
       "text": "...subset-part 5800693503835845052-6107027715926537746: 100000 <- 84684\n"
      },
      {
       "output_type": "stream",
       "stream": "stdout",
       "text": "saving: /test/tutorial-files/mock.part1 23\n"
      },
      {
       "output_type": "stream",
       "stream": "stdout",
       "text": "...subset-part 4462552133586894742-4684895333112905664: 100000 <- 88154\n"
      },
      {
       "output_type": "stream",
       "stream": "stdout",
       "text": "saving: /test/tutorial-files/mock.part1 19\nstarting: /test/tutorial-files/mock.part1 29\n"
      },
      {
       "output_type": "stream",
       "stream": "stdout",
       "text": "starting: /test/tutorial-files/mock.part1 30\n"
      },
      {
       "output_type": "stream",
       "stream": "stdout",
       "text": "...subset-part 4209144081561864332-4462552133586894742: 100000 <- 86335\nsaving: /test/tutorial-files/mock.part1 18\n"
      },
      {
       "output_type": "stream",
       "stream": "stdout",
       "text": "starting: /test/tutorial-files/mock.part1 31\n"
      },
      {
       "output_type": "stream",
       "stream": "stdout",
       "text": "...subset-part 6107027715926537746-6322925388513717670: 100000 <- 85185\nsaving: /test/tutorial-files/mock.part1 24\n"
      },
      {
       "output_type": "stream",
       "stream": "stdout",
       "text": "starting: /test/tutorial-files/mock.part1 32\n"
      },
      {
       "output_type": "stream",
       "stream": "stdout",
       "text": "...subset-part 6541038354198814700-6838569075732247502: 100000 <- 88618\nsaving: /test/tutorial-files/mock.part1 26\n"
      },
      {
       "output_type": "stream",
       "stream": "stdout",
       "text": "...subset-part 6322925388513717670-6541038354198814700: 100000 <- 88834\n"
      },
      {
       "output_type": "stream",
       "stream": "stdout",
       "text": "saving: /test/tutorial-files/mock.part1 25\nstarting: /test/tutorial-files/mock.part1 33\n"
      },
      {
       "output_type": "stream",
       "stream": "stdout",
       "text": "starting: /test/tutorial-files/mock.part1 34\n"
      },
      {
       "output_type": "stream",
       "stream": "stdout",
       "text": "...subset-part 6838569075732247502-7183080571868626843: 100000 <- 88294\nsaving: /test/tutorial-files/mock.part1 27\n"
      },
      {
       "output_type": "stream",
       "stream": "stdout",
       "text": "starting: /test/tutorial-files/mock.part1 35\n"
      },
      {
       "output_type": "stream",
       "stream": "stdout",
       "text": "...subset-part 7183080571868626843-7326490994813815436: 100000 <- 89291\nsaving: /test/tutorial-files/mock.part1 28\n"
      },
      {
       "output_type": "stream",
       "stream": "stdout",
       "text": "starting: /test/tutorial-files/mock.part1 36\n"
      },
      {
       "output_type": "stream",
       "stream": "stdout",
       "text": "...subset-part 7326490994813815436-7603579705978108979: 100000 <- 86898\n"
      },
      {
       "output_type": "stream",
       "stream": "stdout",
       "text": "saving: /test/tutorial-files/mock.part1 29\n"
      },
      {
       "output_type": "stream",
       "stream": "stdout",
       "text": "starting: /test/tutorial-files/mock.part1 37\n"
      },
      {
       "output_type": "stream",
       "stream": "stdout",
       "text": "...subset-part 7603579705978108979-7795999829424067896: 100000 <- 86160\nsaving: /test/tutorial-files/mock.part1 30\n"
      },
      {
       "output_type": "stream",
       "stream": "stdout",
       "text": "starting: /test/tutorial-files/mock.part1 38\n"
      },
      {
       "output_type": "stream",
       "stream": "stdout",
       "text": "...subset-part 7795999829424067896-8063092306009078686: 100000 <- 81920\nsaving: /test/tutorial-files/mock.part1 31\n"
      },
      {
       "output_type": "stream",
       "stream": "stdout",
       "text": "starting: /test/tutorial-files/mock.part1 39\n"
      },
      {
       "output_type": "stream",
       "stream": "stdout",
       "text": "...subset-part 8063092306009078686-8441249233996454970: 100000 <- 88578\nsaving: /test/tutorial-files/mock.part1 32\n"
      },
      {
       "output_type": "stream",
       "stream": "stdout",
       "text": "starting: /test/tutorial-files/mock.part1 40\n"
      },
      {
       "output_type": "stream",
       "stream": "stdout",
       "text": "...subset-part 8441249233996454970-8840279918210633727: 100000 <- 88411\nsaving: /test/tutorial-files/mock.part1 33\n"
      },
      {
       "output_type": "stream",
       "stream": "stdout",
       "text": "starting: /test/tutorial-files/mock.part1 41\n"
      },
      {
       "output_type": "stream",
       "stream": "stdout",
       "text": "...subset-part 9137393177526664591-9588858429440543234: 100000 <- 89144\nsaving: /test/tutorial-files/mock.part1 35\n"
      },
      {
       "output_type": "stream",
       "stream": "stdout",
       "text": "starting: /test/tutorial-files/mock.part1 42\n"
      },
      {
       "output_type": "stream",
       "stream": "stdout",
       "text": "...subset-part 8840279918210633727-9137393177526664591: 100000 <- 86330\nsaving: /test/tutorial-files/mock.part1 34\n"
      },
      {
       "output_type": "stream",
       "stream": "stdout",
       "text": "starting: /test/tutorial-files/mock.part1 43\n"
      },
      {
       "output_type": "stream",
       "stream": "stdout",
       "text": "...subset-part 10072415962488957630-10579129017951714586: 100000 <- 88105\n"
      },
      {
       "output_type": "stream",
       "stream": "stdout",
       "text": "saving: /test/tutorial-files/mock.part1 37\n"
      },
      {
       "output_type": "stream",
       "stream": "stdout",
       "text": "starting: /test/tutorial-files/mock.part1 44\n"
      },
      {
       "output_type": "stream",
       "stream": "stdout",
       "text": "...subset-part 9588858429440543234-10072415962488957630: 100000 <- 87681\nsaving: /test/tutorial-files/mock.part1 36\n"
      },
      {
       "output_type": "stream",
       "stream": "stdout",
       "text": "starting: /test/tutorial-files/mock.part1 45\n"
      },
      {
       "output_type": "stream",
       "stream": "stdout",
       "text": "...subset-part 10579129017951714586-11032074342873574171: 100000 <- 88812\nsaving: /test/tutorial-files/mock.part1 38\n"
      },
      {
       "output_type": "stream",
       "stream": "stdout",
       "text": "starting: /test/tutorial-files/mock.part1 46\n"
      },
      {
       "output_type": "stream",
       "stream": "stdout",
       "text": "...subset-part 11032074342873574171-11054958194102887515: 100000 <- 90164\nsaving: /test/tutorial-files/mock.part1 39\n"
      },
      {
       "output_type": "stream",
       "stream": "stdout",
       "text": "starting: /test/tutorial-files/mock.part1 47\n"
      },
      {
       "output_type": "stream",
       "stream": "stdout",
       "text": "...subset-part 11054958194102887515-11433525864876977338: 100000 <- 84111\nsaving: /test/tutorial-files/mock.part1 40\n"
      },
      {
       "output_type": "stream",
       "stream": "stdout",
       "text": "starting: /test/tutorial-files/mock.part1 48\n"
      },
      {
       "output_type": "stream",
       "stream": "stdout",
       "text": "...subset-part 11433525864876977338-11928641720686732059: 100000 <- 86210\nsaving: /test/tutorial-files/mock.part1 41\n"
      },
      {
       "output_type": "stream",
       "stream": "stdout",
       "text": "starting: /test/tutorial-files/mock.part1 49\n"
      },
      {
       "output_type": "stream",
       "stream": "stdout",
       "text": "...subset-part 11928641720686732059-12298392609422803627: 100000 <- 81400\nsaving: /test/tutorial-files/mock.part1 42\n"
      },
      {
       "output_type": "stream",
       "stream": "stdout",
       "text": "starting: /test/tutorial-files/mock.part1 50\n"
      },
      {
       "output_type": "stream",
       "stream": "stdout",
       "text": "...subset-part 12298392609422803627-12518823802717580798: 100000 <- 80128\n"
      },
      {
       "output_type": "stream",
       "stream": "stdout",
       "text": "saving: /test/tutorial-files/mock.part1 43\n"
      },
      {
       "output_type": "stream",
       "stream": "stdout",
       "text": "exiting\n"
      },
      {
       "output_type": "stream",
       "stream": "stdout",
       "text": "...subset-part 12797720555158153786-13323740612976716198: 100000 <- 83265\nsaving: /test/tutorial-files/mock.part1 45\n"
      },
      {
       "output_type": "stream",
       "stream": "stdout",
       "text": "...subset-part 12518823802717580798-12797720555158153786: 100000 <- 81438\nsaving: /test/tutorial-files/mock.part1 44\n"
      },
      {
       "output_type": "stream",
       "stream": "stdout",
       "text": "exiting\nexiting\n"
      },
      {
       "output_type": "stream",
       "stream": "stdout",
       "text": "...subset-part 13689469228424413878-14292920736027679690: 100000 <- 86515\nsaving: /test/tutorial-files/mock.part1 47\n"
      },
      {
       "output_type": "stream",
       "stream": "stdout",
       "text": "exiting\n"
      },
      {
       "output_type": "stream",
       "stream": "stdout",
       "text": "...subset-part 13323740612976716198-13689469228424413878: 100000 <- 79773\nsaving: /test/tutorial-files/mock.part1 46\n"
      },
      {
       "output_type": "stream",
       "stream": "stdout",
       "text": "exiting\n"
      },
      {
       "output_type": "stream",
       "stream": "stdout",
       "text": "...subset-part 14292920736027679690-15472918990353706926: 100000 <- 87308\nsaving: /test/tutorial-files/mock.part1 48\n"
      },
      {
       "output_type": "stream",
       "stream": "stdout",
       "text": "exiting\n"
      },
      {
       "output_type": "stream",
       "stream": "stdout",
       "text": "...subset-part 15472918990353706926-16635852473598717694: 100000 <- 86802\nsaving: /test/tutorial-files/mock.part1 49\n"
      },
      {
       "output_type": "stream",
       "stream": "stdout",
       "text": "exiting\n"
      },
      {
       "output_type": "stream",
       "stream": "stdout",
       "text": "saving: /test/tutorial-files/mock.part1 50\n"
      },
      {
       "output_type": "stream",
       "stream": "stdout",
       "text": "exiting\n---\ndone making subsets! see /test/tutorial-files/mock.part1.subset.*.pmap\n"
      }
     ],
     "prompt_number": 4
    },
    {
     "cell_type": "code",
     "input": "ls",
     "language": "python",
     "outputs": [
      {
       "output_type": "stream",
       "stream": "stdout",
       "text": "mock.part1.ht              mock.part1.subset.34.pmap\nmock.part1.info            mock.part1.subset.35.pmap\nmock.part1.subset.0.pmap   mock.part1.subset.36.pmap\nmock.part1.subset.10.pmap  mock.part1.subset.37.pmap\nmock.part1.subset.11.pmap  mock.part1.subset.38.pmap\nmock.part1.subset.12.pmap  mock.part1.subset.39.pmap\nmock.part1.subset.13.pmap  mock.part1.subset.3.pmap\nmock.part1.subset.14.pmap  mock.part1.subset.40.pmap\nmock.part1.subset.15.pmap  mock.part1.subset.41.pmap\nmock.part1.subset.16.pmap  mock.part1.subset.42.pmap\nmock.part1.subset.17.pmap  mock.part1.subset.43.pmap\nmock.part1.subset.18.pmap  mock.part1.subset.44.pmap\nmock.part1.subset.19.pmap  mock.part1.subset.45.pmap\nmock.part1.subset.1.pmap   mock.part1.subset.46.pmap\nmock.part1.subset.20.pmap  mock.part1.subset.47.pmap\nmock.part1.subset.21.pmap  mock.part1.subset.48.pmap\nmock.part1.subset.22.pmap  mock.part1.subset.49.pmap\nmock.part1.subset.23.pmap  mock.part1.subset.4.pmap\nmock.part1.subset.24.pmap  mock.part1.subset.50.pmap\nmock.part1.subset.25.pmap  mock.part1.subset.5.pmap\nmock.part1.subset.26.pmap  mock.part1.subset.6.pmap\nmock.part1.subset.27.pmap  mock.part1.subset.7.pmap\nmock.part1.subset.28.pmap  mock.part1.subset.8.pmap\nmock.part1.subset.29.pmap  mock.part1.subset.9.pmap\nmock.part1.subset.2.pmap   mock.part1.tagset\nmock.part1.subset.30.pmap  mock-pass1.kh\nmock.part1.subset.31.pmap  pass1.report\nmock.part1.subset.32.pmap  SRR172903.fastq.gz.keep\nmock.part1.subset.33.pmap  SRR172903.fastq.gz.keep.below\n"
      }
     ],
     "prompt_number": 5
    },
    {
     "cell_type": "code",
     "input": "!/usr/local/src/khmer/scripts/merge-partitions.py mock.part1",
     "language": "python",
     "outputs": [
      {
       "output_type": "stream",
       "stream": "stdout",
       "text": "loading 51 pmap files (first one: mock.part1.subset.4.pmap)\nmerging mock.part1.subset.4.pmap\n"
      },
      {
       "output_type": "stream",
       "stream": "stdout",
       "text": "merging mock.part1.subset.0.pmap\n"
      },
      {
       "output_type": "stream",
       "stream": "stdout",
       "text": "merging mock.part1.subset.1.pmap\n"
      },
      {
       "output_type": "stream",
       "stream": "stdout",
       "text": "merging mock.part1.subset.2.pmap\n"
      },
      {
       "output_type": "stream",
       "stream": "stdout",
       "text": "merging mock.part1.subset.6.pmap\n"
      },
      {
       "output_type": "stream",
       "stream": "stdout",
       "text": "merging mock.part1.subset.7.pmap\n"
      },
      {
       "output_type": "stream",
       "stream": "stdout",
       "text": "merging mock.part1.subset.5.pmap\n"
      },
      {
       "output_type": "stream",
       "stream": "stdout",
       "text": "merging mock.part1.subset.3.pmap\n"
      },
      {
       "output_type": "stream",
       "stream": "stdout",
       "text": "merging mock.part1.subset.8.pmap\n"
      },
      {
       "output_type": "stream",
       "stream": "stdout",
       "text": "merging mock.part1.subset.9.pmap\n"
      },
      {
       "output_type": "stream",
       "stream": "stdout",
       "text": "merging mock.part1.subset.12.pmap\n"
      },
      {
       "output_type": "stream",
       "stream": "stdout",
       "text": "merging mock.part1.subset.13.pmap\n"
      },
      {
       "output_type": "stream",
       "stream": "stdout",
       "text": "merging mock.part1.subset.11.pmap\n"
      },
      {
       "output_type": "stream",
       "stream": "stdout",
       "text": "merging mock.part1.subset.15.pmap\n"
      },
      {
       "output_type": "stream",
       "stream": "stdout",
       "text": "merging mock.part1.subset.10.pmap\n"
      },
      {
       "output_type": "stream",
       "stream": "stdout",
       "text": "merging mock.part1.subset.14.pmap\n"
      },
      {
       "output_type": "stream",
       "stream": "stdout",
       "text": "merging mock.part1.subset.16.pmap\n"
      },
      {
       "output_type": "stream",
       "stream": "stdout",
       "text": "merging mock.part1.subset.17.pmap\n"
      },
      {
       "output_type": "stream",
       "stream": "stdout",
       "text": "merging mock.part1.subset.20.pmap\n"
      },
      {
       "output_type": "stream",
       "stream": "stdout",
       "text": "merging mock.part1.subset.21.pmap\n"
      },
      {
       "output_type": "stream",
       "stream": "stdout",
       "text": "merging mock.part1.subset.22.pmap\n"
      },
      {
       "output_type": "stream",
       "stream": "stdout",
       "text": "merging mock.part1.subset.23.pmap\n"
      },
      {
       "output_type": "stream",
       "stream": "stdout",
       "text": "merging mock.part1.subset.19.pmap\n"
      },
      {
       "output_type": "stream",
       "stream": "stdout",
       "text": "merging mock.part1.subset.18.pmap\n"
      },
      {
       "output_type": "stream",
       "stream": "stdout",
       "text": "merging mock.part1.subset.24.pmap\n"
      },
      {
       "output_type": "stream",
       "stream": "stdout",
       "text": "merging mock.part1.subset.26.pmap\n"
      },
      {
       "output_type": "stream",
       "stream": "stdout",
       "text": "merging mock.part1.subset.25.pmap\n"
      },
      {
       "output_type": "stream",
       "stream": "stdout",
       "text": "merging mock.part1.subset.27.pmap\n"
      },
      {
       "output_type": "stream",
       "stream": "stdout",
       "text": "merging mock.part1.subset.28.pmap\n"
      },
      {
       "output_type": "stream",
       "stream": "stdout",
       "text": "merging mock.part1.subset.29.pmap\n"
      },
      {
       "output_type": "stream",
       "stream": "stdout",
       "text": "merging mock.part1.subset.30.pmap\n"
      },
      {
       "output_type": "stream",
       "stream": "stdout",
       "text": "merging mock.part1.subset.31.pmap\n"
      },
      {
       "output_type": "stream",
       "stream": "stdout",
       "text": "merging mock.part1.subset.32.pmap\n"
      },
      {
       "output_type": "stream",
       "stream": "stdout",
       "text": "merging mock.part1.subset.33.pmap\n"
      },
      {
       "output_type": "stream",
       "stream": "stdout",
       "text": "merging mock.part1.subset.35.pmap\n"
      },
      {
       "output_type": "stream",
       "stream": "stdout",
       "text": "merging mock.part1.subset.34.pmap\n"
      },
      {
       "output_type": "stream",
       "stream": "stdout",
       "text": "merging mock.part1.subset.37.pmap\n"
      },
      {
       "output_type": "stream",
       "stream": "stdout",
       "text": "merging mock.part1.subset.36.pmap\n"
      },
      {
       "output_type": "stream",
       "stream": "stdout",
       "text": "merging mock.part1.subset.38.pmap\n"
      },
      {
       "output_type": "stream",
       "stream": "stdout",
       "text": "merging mock.part1.subset.39.pmap\n"
      },
      {
       "output_type": "stream",
       "stream": "stdout",
       "text": "merging mock.part1.subset.40.pmap\n"
      },
      {
       "output_type": "stream",
       "stream": "stdout",
       "text": "merging mock.part1.subset.41.pmap\n"
      },
      {
       "output_type": "stream",
       "stream": "stdout",
       "text": "merging mock.part1.subset.42.pmap\n"
      },
      {
       "output_type": "stream",
       "stream": "stdout",
       "text": "merging mock.part1.subset.43.pmap\n"
      },
      {
       "output_type": "stream",
       "stream": "stdout",
       "text": "merging mock.part1.subset.45.pmap\n"
      },
      {
       "output_type": "stream",
       "stream": "stdout",
       "text": "merging mock.part1.subset.44.pmap\n"
      },
      {
       "output_type": "stream",
       "stream": "stdout",
       "text": "merging mock.part1.subset.47.pmap\n"
      },
      {
       "output_type": "stream",
       "stream": "stdout",
       "text": "merging mock.part1.subset.46.pmap\n"
      },
      {
       "output_type": "stream",
       "stream": "stdout",
       "text": "merging mock.part1.subset.48.pmap\n"
      },
      {
       "output_type": "stream",
       "stream": "stdout",
       "text": "merging mock.part1.subset.49.pmap\n"
      },
      {
       "output_type": "stream",
       "stream": "stdout",
       "text": "merging mock.part1.subset.50.pmap\n"
      },
      {
       "output_type": "stream",
       "stream": "stdout",
       "text": "saving merged to mock.part1.pmap.merged\n"
      },
      {
       "output_type": "stream",
       "stream": "stdout",
       "text": "removing pmap files\n"
      }
     ],
     "prompt_number": 6
    },
    {
     "cell_type": "code",
     "input": "!/usr/local/src/khmer/scripts/annotate-partitions.py mock.part1 *.keep.below",
     "language": "python",
     "outputs": [
      {
       "output_type": "stream",
       "stream": "stdout",
       "text": "loading partition map from: mock.part1.pmap.merged\n"
      },
      {
       "output_type": "stream",
       "stream": "stdout",
       "text": "outputting partitions for SRR172903.fastq.gz.keep.below\n"
      },
      {
       "output_type": "stream",
       "stream": "stdout",
       "text": "... output_partitions 100000 0\n"
      },
      {
       "output_type": "stream",
       "stream": "stdout",
       "text": "... output_partitions 200000 0\n"
      },
      {
       "output_type": "stream",
       "stream": "stdout",
       "text": "... output_partitions 300000 0\n"
      },
      {
       "output_type": "stream",
       "stream": "stdout",
       "text": "... output_partitions 400000 0\n"
      },
      {
       "output_type": "stream",
       "stream": "stdout",
       "text": "... output_partitions 500000 0\n"
      },
      {
       "output_type": "stream",
       "stream": "stdout",
       "text": "... output_partitions 600000 0\n"
      },
      {
       "output_type": "stream",
       "stream": "stdout",
       "text": "... output_partitions 700000 0\n"
      },
      {
       "output_type": "stream",
       "stream": "stdout",
       "text": "... output_partitions 800000 0\n"
      },
      {
       "output_type": "stream",
       "stream": "stdout",
       "text": "... output_partitions 900000 0\n"
      },
      {
       "output_type": "stream",
       "stream": "stdout",
       "text": "... output_partitions 1000000 0\n"
      },
      {
       "output_type": "stream",
       "stream": "stdout",
       "text": "... output_partitions 1100000 0\n"
      },
      {
       "output_type": "stream",
       "stream": "stdout",
       "text": "... output_partitions 1200000 0\n"
      },
      {
       "output_type": "stream",
       "stream": "stdout",
       "text": "... output_partitions 1300000 0\n"
      },
      {
       "output_type": "stream",
       "stream": "stdout",
       "text": "... output_partitions 1400000 0\n"
      },
      {
       "output_type": "stream",
       "stream": "stdout",
       "text": "... output_partitions 1500000 0\n"
      },
      {
       "output_type": "stream",
       "stream": "stdout",
       "text": "... output_partitions 1600000 0\n"
      },
      {
       "output_type": "stream",
       "stream": "stdout",
       "text": "... output_partitions 1700000 0\n"
      },
      {
       "output_type": "stream",
       "stream": "stdout",
       "text": "... output_partitions 1800000 0\n"
      },
      {
       "output_type": "stream",
       "stream": "stdout",
       "text": "... output_partitions 1900000 0\n"
      },
      {
       "output_type": "stream",
       "stream": "stdout",
       "text": "... output_partitions 2000000 0\n"
      },
      {
       "output_type": "stream",
       "stream": "stdout",
       "text": "... output_partitions 2100000 0\n"
      },
      {
       "output_type": "stream",
       "stream": "stdout",
       "text": "... output_partitions 2200000 0\n"
      },
      {
       "output_type": "stream",
       "stream": "stdout",
       "text": "... output_partitions 2300000 0\n"
      },
      {
       "output_type": "stream",
       "stream": "stdout",
       "text": "... output_partitions 2400000 0\n"
      },
      {
       "output_type": "stream",
       "stream": "stdout",
       "text": "... output_partitions 2500000 0\n"
      },
      {
       "output_type": "stream",
       "stream": "stdout",
       "text": "... output_partitions 2600000 0\n"
      },
      {
       "output_type": "stream",
       "stream": "stdout",
       "text": "... output_partitions 2700000 0\n"
      },
      {
       "output_type": "stream",
       "stream": "stdout",
       "text": "... output_partitions 2800000 0\n"
      },
      {
       "output_type": "stream",
       "stream": "stdout",
       "text": "... output_partitions 2900000 0\n"
      },
      {
       "output_type": "stream",
       "stream": "stdout",
       "text": "... output_partitions 3000000 0\n"
      },
      {
       "output_type": "stream",
       "stream": "stdout",
       "text": "... output_partitions 3100000 0\n"
      },
      {
       "output_type": "stream",
       "stream": "stdout",
       "text": "... output_partitions 3200000 0\n"
      },
      {
       "output_type": "stream",
       "stream": "stdout",
       "text": "... output_partitions 3300000 0\n"
      },
      {
       "output_type": "stream",
       "stream": "stdout",
       "text": "... output_partitions 3400000 0\n"
      },
      {
       "output_type": "stream",
       "stream": "stdout",
       "text": "... output_partitions 3500000 0\n"
      },
      {
       "output_type": "stream",
       "stream": "stdout",
       "text": "... output_partitions 3600000 0\n"
      },
      {
       "output_type": "stream",
       "stream": "stdout",
       "text": "... output_partitions 3700000 0\n"
      },
      {
       "output_type": "stream",
       "stream": "stdout",
       "text": "... output_partitions 3800000 0\n"
      },
      {
       "output_type": "stream",
       "stream": "stdout",
       "text": "... output_partitions 3900000 0\n"
      },
      {
       "output_type": "stream",
       "stream": "stdout",
       "text": "... output_partitions 4000000 0\n"
      },
      {
       "output_type": "stream",
       "stream": "stdout",
       "text": "... output_partitions 4100000 0\n"
      },
      {
       "output_type": "stream",
       "stream": "stdout",
       "text": "... output_partitions 4200000 0\n"
      },
      {
       "output_type": "stream",
       "stream": "stdout",
       "text": "... output_partitions 4300000 0\n"
      },
      {
       "output_type": "stream",
       "stream": "stdout",
       "text": "... output_partitions 4400000 0\n"
      },
      {
       "output_type": "stream",
       "stream": "stdout",
       "text": "... output_partitions 4500000 0\n"
      },
      {
       "output_type": "stream",
       "stream": "stdout",
       "text": "... output_partitions 4600000 0\n"
      },
      {
       "output_type": "stream",
       "stream": "stdout",
       "text": "output 477730 partitions for SRR172903.fastq.gz.keep.below\npartitions are in SRR172903.fastq.gz.keep.below.part\n"
      }
     ],
     "prompt_number": 7
    },
    {
     "cell_type": "code",
     "input": "!/usr/local/src/khmer/scripts/extract-partitions.py mock.part1 *keep.below.part",
     "language": "python",
     "outputs": [
      {
       "output_type": "stream",
       "stream": "stdout",
       "text": "---\nreading partitioned files: ['SRR172903.fastq.gz.keep.below.part']\noutputting to files named \"mock.part1.groupN.fa\"\nmin reads to keep a partition: 5\nmax size of a group file: 1000000\npartition size distribution will go to mock.part1.dist\n---\n... 0\n"
      },
      {
       "output_type": "stream",
       "stream": "stdout",
       "text": "... 100000\n"
      },
      {
       "output_type": "stream",
       "stream": "stdout",
       "text": "... 200000\n"
      },
      {
       "output_type": "stream",
       "stream": "stdout",
       "text": "... 300000\n"
      },
      {
       "output_type": "stream",
       "stream": "stdout",
       "text": "... 400000\n"
      },
      {
       "output_type": "stream",
       "stream": "stdout",
       "text": "... 500000\n"
      },
      {
       "output_type": "stream",
       "stream": "stdout",
       "text": "... 600000\n"
      },
      {
       "output_type": "stream",
       "stream": "stdout",
       "text": "... 700000\n"
      },
      {
       "output_type": "stream",
       "stream": "stdout",
       "text": "... 800000\n"
      },
      {
       "output_type": "stream",
       "stream": "stdout",
       "text": "... 900000\n"
      },
      {
       "output_type": "stream",
       "stream": "stdout",
       "text": "... 1000000\n"
      },
      {
       "output_type": "stream",
       "stream": "stdout",
       "text": "... 1100000\n"
      },
      {
       "output_type": "stream",
       "stream": "stdout",
       "text": "... 1200000\n"
      },
      {
       "output_type": "stream",
       "stream": "stdout",
       "text": "... 1300000\n"
      },
      {
       "output_type": "stream",
       "stream": "stdout",
       "text": "... 1400000\n"
      },
      {
       "output_type": "stream",
       "stream": "stdout",
       "text": "... 1500000\n"
      },
      {
       "output_type": "stream",
       "stream": "stdout",
       "text": "... 1600000\n"
      },
      {
       "output_type": "stream",
       "stream": "stdout",
       "text": "... 1700000\n"
      },
      {
       "output_type": "stream",
       "stream": "stdout",
       "text": "... 1800000\n"
      },
      {
       "output_type": "stream",
       "stream": "stdout",
       "text": "... 1900000\n"
      },
      {
       "output_type": "stream",
       "stream": "stdout",
       "text": "... 2000000\n"
      },
      {
       "output_type": "stream",
       "stream": "stdout",
       "text": "... 2100000\n"
      },
      {
       "output_type": "stream",
       "stream": "stdout",
       "text": "... 2200000\n"
      },
      {
       "output_type": "stream",
       "stream": "stdout",
       "text": "... 2300000\n"
      },
      {
       "output_type": "stream",
       "stream": "stdout",
       "text": "... 2400000\n"
      },
      {
       "output_type": "stream",
       "stream": "stdout",
       "text": "... 2500000\n"
      },
      {
       "output_type": "stream",
       "stream": "stdout",
       "text": "... 2600000\n"
      },
      {
       "output_type": "stream",
       "stream": "stdout",
       "text": "... 2700000\n"
      },
      {
       "output_type": "stream",
       "stream": "stdout",
       "text": "... 2800000\n"
      },
      {
       "output_type": "stream",
       "stream": "stdout",
       "text": "... 2900000\n"
      },
      {
       "output_type": "stream",
       "stream": "stdout",
       "text": "... 3000000\n"
      },
      {
       "output_type": "stream",
       "stream": "stdout",
       "text": "... 3100000\n"
      },
      {
       "output_type": "stream",
       "stream": "stdout",
       "text": "... 3200000\n"
      },
      {
       "output_type": "stream",
       "stream": "stdout",
       "text": "... 3300000\n"
      },
      {
       "output_type": "stream",
       "stream": "stdout",
       "text": "... 3400000\n"
      },
      {
       "output_type": "stream",
       "stream": "stdout",
       "text": "... 3500000\n"
      },
      {
       "output_type": "stream",
       "stream": "stdout",
       "text": "... 3600000\n"
      },
      {
       "output_type": "stream",
       "stream": "stdout",
       "text": "... 3700000\n"
      },
      {
       "output_type": "stream",
       "stream": "stdout",
       "text": "... 3800000\n"
      },
      {
       "output_type": "stream",
       "stream": "stdout",
       "text": "... 3900000\n"
      },
      {
       "output_type": "stream",
       "stream": "stdout",
       "text": "... 4000000\n"
      },
      {
       "output_type": "stream",
       "stream": "stdout",
       "text": "... 4100000\n"
      },
      {
       "output_type": "stream",
       "stream": "stdout",
       "text": "... 4200000\n"
      },
      {
       "output_type": "stream",
       "stream": "stdout",
       "text": "... 4300000\n"
      },
      {
       "output_type": "stream",
       "stream": "stdout",
       "text": "... 4400000\n"
      },
      {
       "output_type": "stream",
       "stream": "stdout",
       "text": "... 4500000\n"
      },
      {
       "output_type": "stream",
       "stream": "stdout",
       "text": "2 groups\n...x2 0\n"
      },
      {
       "output_type": "stream",
       "stream": "stdout",
       "text": "...x2 100000\n"
      },
      {
       "output_type": "stream",
       "stream": "stdout",
       "text": "...x2 200000\n"
      },
      {
       "output_type": "stream",
       "stream": "stdout",
       "text": "...x2 300000\n"
      },
      {
       "output_type": "stream",
       "stream": "stdout",
       "text": "...x2 400000\n"
      },
      {
       "output_type": "stream",
       "stream": "stdout",
       "text": "...x2 500000\n"
      },
      {
       "output_type": "stream",
       "stream": "stdout",
       "text": "...x2 600000\n"
      },
      {
       "output_type": "stream",
       "stream": "stdout",
       "text": "...x2 700000\n"
      },
      {
       "output_type": "stream",
       "stream": "stdout",
       "text": "...x2 800000\n"
      },
      {
       "output_type": "stream",
       "stream": "stdout",
       "text": "...x2 900000\n"
      },
      {
       "output_type": "stream",
       "stream": "stdout",
       "text": "...x2 1000000\n"
      },
      {
       "output_type": "stream",
       "stream": "stdout",
       "text": "...x2 1100000\n"
      },
      {
       "output_type": "stream",
       "stream": "stdout",
       "text": "...x2 1200000\n"
      },
      {
       "output_type": "stream",
       "stream": "stdout",
       "text": "...x2 1300000\n"
      },
      {
       "output_type": "stream",
       "stream": "stdout",
       "text": "...x2 1400000\n"
      },
      {
       "output_type": "stream",
       "stream": "stdout",
       "text": "...x2 1500000\n"
      },
      {
       "output_type": "stream",
       "stream": "stdout",
       "text": "...x2 1600000\n"
      },
      {
       "output_type": "stream",
       "stream": "stdout",
       "text": "...x2 1700000\n"
      },
      {
       "output_type": "stream",
       "stream": "stdout",
       "text": "...x2 1800000\n"
      },
      {
       "output_type": "stream",
       "stream": "stdout",
       "text": "...x2 1900000\n"
      },
      {
       "output_type": "stream",
       "stream": "stdout",
       "text": "...x2 2000000\n"
      },
      {
       "output_type": "stream",
       "stream": "stdout",
       "text": "...x2 2100000\n"
      },
      {
       "output_type": "stream",
       "stream": "stdout",
       "text": "...x2 2200000\n"
      },
      {
       "output_type": "stream",
       "stream": "stdout",
       "text": "...x2 2300000\n"
      },
      {
       "output_type": "stream",
       "stream": "stdout",
       "text": "...x2 2400000\n"
      },
      {
       "output_type": "stream",
       "stream": "stdout",
       "text": "...x2 2500000\n"
      },
      {
       "output_type": "stream",
       "stream": "stdout",
       "text": "...x2 2600000\n"
      },
      {
       "output_type": "stream",
       "stream": "stdout",
       "text": "...x2 2700000\n"
      },
      {
       "output_type": "stream",
       "stream": "stdout",
       "text": "...x2 2800000\n"
      },
      {
       "output_type": "stream",
       "stream": "stdout",
       "text": "...x2 2900000\n"
      },
      {
       "output_type": "stream",
       "stream": "stdout",
       "text": "...x2 3000000\n"
      },
      {
       "output_type": "stream",
       "stream": "stdout",
       "text": "...x2 3100000\n"
      },
      {
       "output_type": "stream",
       "stream": "stdout",
       "text": "...x2 3200000\n"
      },
      {
       "output_type": "stream",
       "stream": "stdout",
       "text": "...x2 3300000\n"
      },
      {
       "output_type": "stream",
       "stream": "stdout",
       "text": "...x2 3400000\n"
      },
      {
       "output_type": "stream",
       "stream": "stdout",
       "text": "...x2 3500000\n"
      },
      {
       "output_type": "stream",
       "stream": "stdout",
       "text": "...x2 3600000\n"
      },
      {
       "output_type": "stream",
       "stream": "stdout",
       "text": "...x2 3700000\n"
      },
      {
       "output_type": "stream",
       "stream": "stdout",
       "text": "...x2 3800000\n"
      },
      {
       "output_type": "stream",
       "stream": "stdout",
       "text": "...x2 3900000\n"
      },
      {
       "output_type": "stream",
       "stream": "stdout",
       "text": "...x2 4000000\n"
      },
      {
       "output_type": "stream",
       "stream": "stdout",
       "text": "...x2 4100000\n"
      },
      {
       "output_type": "stream",
       "stream": "stdout",
       "text": "...x2 4200000\n"
      },
      {
       "output_type": "stream",
       "stream": "stdout",
       "text": "...x2 4300000\n"
      },
      {
       "output_type": "stream",
       "stream": "stdout",
       "text": "...x2 4400000\n"
      },
      {
       "output_type": "stream",
       "stream": "stdout",
       "text": "...x2 4500000\n"
      }
     ],
     "prompt_number": 8
    },
    {
     "cell_type": "markdown",
     "source": "### Done!\n\nYou can see now that you have some grouped files which you can assemble in parallel.  This was actually a very small dataset, so you have only 2 of these files.  However, for larger metagenomes, you could have millions of partitions and thus want to create hundreds of these grouped files.  \n\nNow take the '\\*.group\\*.fa' files and proceed to assembly.  If you're looking for more resources on how we do this, check out these tutorials.  \n\nhttp://ged.msu.edu/angus/metag-assembly-2011/index.html\nhttp://ged.msu.edu/angus/nih-hmp-2012/index.html\n\n"
    }
   ]
  }
 ]
}