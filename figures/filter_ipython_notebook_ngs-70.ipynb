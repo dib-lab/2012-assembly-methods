{
 "metadata": {
  "name": "ngs-70-hmp-diginorm-tested"
 },
 "nbformat": 3,
 "worksheets": [
  {
   "cells": [
    {
     "cell_type": "markdown",
     "source": "## Running digital normalization and artifact removal on an HMP mock data set\n\nThis notebook runs 'digital normalization' (see http://ged.msu.edu/papers/2012-diginorm/) and Illumina artifact removal on an HMP Illumina mock data set.  The dataset and description originated from http://www.ncbi.nlm.nih.gov/bioproject/48475.  \n\nPrerequisites for this tutorial\n\n1. Start a new NGS 2012 EC2 instance\nhttp://ged.msu.edu/angus/tutorials-2012/start-up-an-ec2-instance.html\n\n2. Install khmer and screed\nIn your ipython notebook homepage:  run ngs-00-update-notebooks and ngs-03-install-khmer\n\n3. Make a volume of a snapshot (snap-08efea77) containing the HMP data and mount it on your instance as /hmp-mock-tutorial\n\n\nWe are going to start with the HMP gzipped fastq Illumina sequencing reads and:\n\n1. Normalize to coverage = 10\n2. Trim high-abundance (likely Illumina artifacts)\n\nThis produces files that can be used as input into the partitioning algorithm (see the next notebook!)\n\n"
    },
    {
     "cell_type": "code",
     "input": "cd /test/raw-data",
     "language": "python",
     "outputs": [
      {
       "output_type": "stream",
       "stream": "stdout",
       "text": "/test/raw-data\n"
      }
     ],
     "prompt_number": 2
    },
    {
     "cell_type": "code",
     "input": "!ls",
     "language": "python",
     "outputs": [
      {
       "output_type": "stream",
       "stream": "stdout",
       "text": "SRR172902.fastq.gz  SRR172903.fastq.gz\n"
      }
     ],
     "prompt_number": 3
    },
    {
     "cell_type": "markdown",
     "source": "We are going to be working with the SRR172903 dataset (staggered mixture).  You can play with a combination of the two or the other dataset (even mixture) later if you like."
    },
    {
     "cell_type": "markdown",
     "source": "### Pass 1: normalize to C=10.\n\nThe only parameter to change here is the memory, which is fixed at 4gb (multiply the -N and -x parameters).\n\nThis should take 10-15 minutes."
    },
    {
     "cell_type": "code",
     "input": "cd /test",
     "language": "python",
     "outputs": [
      {
       "output_type": "stream",
       "stream": "stdout",
       "text": "/test\n"
      }
     ],
     "prompt_number": 4
    },
    {
     "cell_type": "code",
     "input": "mkdir tutorial-files",
     "language": "python",
     "outputs": [],
     "prompt_number": 5
    },
    {
     "cell_type": "code",
     "input": "cd /test/tutorial-files",
     "language": "python",
     "outputs": [
      {
       "output_type": "stream",
       "stream": "stdout",
       "text": "/test/tutorial-files"
      },
      {
       "output_type": "stream",
       "stream": "stdout",
       "text": "\n"
      }
     ],
     "prompt_number": 6
    },
    {
     "cell_type": "markdown",
     "source": "Now, let's run the digital normalization for a word length of -k 20, we are going to remove redundant reads which are contribute to a coverage greater than -C 10.  We'll be using a hashtable size of -x 1e9 and four of them -N 4.  We'll save this hashtable as mock-pass1.kh.  The actual size of your hashtable is dependent on the characteristics of your dataset - the important thing is that the false positive rate in the hashtable (caluclated at the end) is less than 15%.  The output will be saved in pass1.report.  The input of reads is the last parameter of the command (there can be multiple read files here).  The output shows you the number of reads kept over the total of reads processed.  "
    },
    {
     "cell_type": "code",
     "input": "!python /usr/local/src/khmer/scripts/normalize-by-median.py -k 20 -C 10 -N 4 -x 1e9 -s /test/tutorial-files/mock-pass1.kh -R /test/tutorial-files/pass1.report /test/raw-data/SRR172903.fastq.gz",
     "language": "python",
     "outputs": [
      {
       "output_type": "stream",
       "stream": "stdout",
       "text": "\nPARAMETERS:\n - kmer size =    20 \t\t(-k)\n - n hashes =     4 \t\t(-N)\n - min hashsize = 1e+09 \t(-x)\n - paired =\t      False \t\t(-p)\n\nEstimated memory usage is 4e+09 bytes (n_hashes x min_hashsize)\n--------\nmaking hashtable\n"
      },
      {
       "output_type": "stream",
       "stream": "stdout",
       "text": "... kept 98471 of 100000 , or 98 %\n... in file /test/raw-data/SRR172903.fastq.gz\n"
      },
      {
       "output_type": "stream",
       "stream": "stdout",
       "text": "... kept 194971 of 200000 , or 97 %\n... in file /test/raw-data/SRR172903.fastq.gz\n"
      },
      {
       "output_type": "stream",
       "stream": "stdout",
       "text": "... kept 289555 of 300000 , or 96 %\n... in file /test/raw-data/SRR172903.fastq.gz\n"
      },
      {
       "output_type": "stream",
       "stream": "stdout",
       "text": "... kept 383133 of 400000 , or 95 %\n... in file /test/raw-data/SRR172903.fastq.gz\n"
      },
      {
       "output_type": "stream",
       "stream": "stdout",
       "text": "... kept 476015 of 500000 , or 95 %\n... in file /test/raw-data/SRR172903.fastq.gz\n"
      },
      {
       "output_type": "stream",
       "stream": "stdout",
       "text": "... kept 568701 of 600000 , or 94 %\n... in file /test/raw-data/SRR172903.fastq.gz\n"
      },
      {
       "output_type": "stream",
       "stream": "stdout",
       "text": "... kept 661095 of 700000 , or 94 %\n... in file /test/raw-data/SRR172903.fastq.gz\n"
      },
      {
       "output_type": "stream",
       "stream": "stdout",
       "text": "... kept 753224 of 800000 , or 94 %\n... in file /test/raw-data/SRR172903.fastq.gz\n"
      },
      {
       "output_type": "stream",
       "stream": "stdout",
       "text": "... kept 845404 of 900000 , or 93 %\n... in file /test/raw-data/SRR172903.fastq.gz\n"
      },
      {
       "output_type": "stream",
       "stream": "stdout",
       "text": "... kept 937527 of 1000000 , or 93 %\n... in file /test/raw-data/SRR172903.fastq.gz\n"
      },
      {
       "output_type": "stream",
       "stream": "stdout",
       "text": "... kept 1030022 of 1100000 , or 93 %\n... in file /test/raw-data/SRR172903.fastq.gz\n"
      },
      {
       "output_type": "stream",
       "stream": "stdout",
       "text": "... kept 1121084 of 1200000 , or 93 %\n... in file /test/raw-data/SRR172903.fastq.gz\n"
      },
      {
       "output_type": "stream",
       "stream": "stdout",
       "text": "... kept 1211308 of 1300000 , or 93 %\n... in file /test/raw-data/SRR172903.fastq.gz\n"
      },
      {
       "output_type": "stream",
       "stream": "stdout",
       "text": "... kept 1301535 of 1400000 , or 92 %\n... in file /test/raw-data/SRR172903.fastq.gz\n"
      },
      {
       "output_type": "stream",
       "stream": "stdout",
       "text": "... kept 1391544 of 1500000 , or 92 %\n... in file /test/raw-data/SRR172903.fastq.gz\n"
      },
      {
       "output_type": "stream",
       "stream": "stdout",
       "text": "... kept 1480364 of 1600000 , or 92 %\n... in file /test/raw-data/SRR172903.fastq.gz\n"
      },
      {
       "output_type": "stream",
       "stream": "stdout",
       "text": "... kept 1568191 of 1700000 , or 92 %\n... in file /test/raw-data/SRR172903.fastq.gz\n"
      },
      {
       "output_type": "stream",
       "stream": "stdout",
       "text": "... kept 1655168 of 1800000 , or 91 %\n... in file /test/raw-data/SRR172903.fastq.gz\n"
      },
      {
       "output_type": "stream",
       "stream": "stdout",
       "text": "... kept 1743478 of 1900000 , or 91 %\n... in file /test/raw-data/SRR172903.fastq.gz\n"
      },
      {
       "output_type": "stream",
       "stream": "stdout",
       "text": "... kept 1828559 of 2000000 , or 91 %\n... in file /test/raw-data/SRR172903.fastq.gz\n"
      },
      {
       "output_type": "stream",
       "stream": "stdout",
       "text": "... kept 1912000 of 2100000 , or 91 %\n... in file /test/raw-data/SRR172903.fastq.gz\n"
      },
      {
       "output_type": "stream",
       "stream": "stdout",
       "text": "... kept 1997606 of 2200000 , or 90 %\n... in file /test/raw-data/SRR172903.fastq.gz\n"
      },
      {
       "output_type": "stream",
       "stream": "stdout",
       "text": "... kept 2080707 of 2300000 , or 90 %\n... in file /test/raw-data/SRR172903.fastq.gz\n"
      },
      {
       "output_type": "stream",
       "stream": "stdout",
       "text": "... kept 2164877 of 2400000 , or 90 %\n... in file /test/raw-data/SRR172903.fastq.gz\n"
      },
      {
       "output_type": "stream",
       "stream": "stdout",
       "text": "... kept 2247921 of 2500000 , or 89 %\n... in file /test/raw-data/SRR172903.fastq.gz\n"
      },
      {
       "output_type": "stream",
       "stream": "stdout",
       "text": "... kept 2324387 of 2600000 , or 89 %\n... in file /test/raw-data/SRR172903.fastq.gz\n"
      },
      {
       "output_type": "stream",
       "stream": "stdout",
       "text": "... kept 2398885 of 2700000 , or 88 %\n... in file /test/raw-data/SRR172903.fastq.gz\n"
      },
      {
       "output_type": "stream",
       "stream": "stdout",
       "text": "... kept 2471525 of 2800000 , or 88 %\n... in file /test/raw-data/SRR172903.fastq.gz\n"
      },
      {
       "output_type": "stream",
       "stream": "stdout",
       "text": "... kept 2543473 of 2900000 , or 87 %\n... in file /test/raw-data/SRR172903.fastq.gz\n"
      },
      {
       "output_type": "stream",
       "stream": "stdout",
       "text": "... kept 2621185 of 3000000 , or 87 %\n... in file /test/raw-data/SRR172903.fastq.gz\n"
      },
      {
       "output_type": "stream",
       "stream": "stdout",
       "text": "... kept 2691512 of 3100000 , or 86 %\n... in file /test/raw-data/SRR172903.fastq.gz\n"
      },
      {
       "output_type": "stream",
       "stream": "stdout",
       "text": "... kept 2771750 of 3200000 , or 86 %\n... in file /test/raw-data/SRR172903.fastq.gz\n"
      },
      {
       "output_type": "stream",
       "stream": "stdout",
       "text": "... kept 2841597 of 3300000 , or 86 %\n... in file /test/raw-data/SRR172903.fastq.gz\n"
      },
      {
       "output_type": "stream",
       "stream": "stdout",
       "text": "... kept 2912094 of 3400000 , or 85 %\n... in file /test/raw-data/SRR172903.fastq.gz\n"
      },
      {
       "output_type": "stream",
       "stream": "stdout",
       "text": "... kept 2976001 of 3500000 , or 85 %\n... in file /test/raw-data/SRR172903.fastq.gz\n"
      },
      {
       "output_type": "stream",
       "stream": "stdout",
       "text": "... kept 3038330 of 3600000 , or 84 %\n... in file /test/raw-data/SRR172903.fastq.gz\n"
      },
      {
       "output_type": "stream",
       "stream": "stdout",
       "text": "... kept 3099250 of 3700000 , or 83 %\n... in file /test/raw-data/SRR172903.fastq.gz\n"
      },
      {
       "output_type": "stream",
       "stream": "stdout",
       "text": "... kept 3156056 of 3800000 , or 83 %\n... in file /test/raw-data/SRR172903.fastq.gz\n"
      },
      {
       "output_type": "stream",
       "stream": "stdout",
       "text": "... kept 3212197 of 3900000 , or 82 %\n... in file /test/raw-data/SRR172903.fastq.gz\n"
      },
      {
       "output_type": "stream",
       "stream": "stdout",
       "text": "... kept 3267587 of 4000000 , or 81 %\n... in file /test/raw-data/SRR172903.fastq.gz\n"
      },
      {
       "output_type": "stream",
       "stream": "stdout",
       "text": "... kept 3320406 of 4100000 , or 80 %\n... in file /test/raw-data/SRR172903.fastq.gz\n"
      },
      {
       "output_type": "stream",
       "stream": "stdout",
       "text": "... kept 3371773 of 4200000 , or 80 %\n... in file /test/raw-data/SRR172903.fastq.gz\n"
      },
      {
       "output_type": "stream",
       "stream": "stdout",
       "text": "... kept 3422626 of 4300000 , or 79 %\n... in file /test/raw-data/SRR172903.fastq.gz\n"
      },
      {
       "output_type": "stream",
       "stream": "stdout",
       "text": "... kept 3471702 of 4400000 , or 78 %\n... in file /test/raw-data/SRR172903.fastq.gz\n"
      },
      {
       "output_type": "stream",
       "stream": "stdout",
       "text": "... kept 3520891 of 4500000 , or 78 %\n... in file /test/raw-data/SRR172903.fastq.gz\n"
      },
      {
       "output_type": "stream",
       "stream": "stdout",
       "text": "... kept 3580270 of 4600000 , or 77 %\n... in file /test/raw-data/SRR172903.fastq.gz\n"
      },
      {
       "output_type": "stream",
       "stream": "stdout",
       "text": "... kept 3632578 of 4700000 , or 77 %\n... in file /test/raw-data/SRR172903.fastq.gz\n"
      },
      {
       "output_type": "stream",
       "stream": "stdout",
       "text": "... kept 3681283 of 4800000 , or 76 %\n... in file /test/raw-data/SRR172903.fastq.gz\n"
      },
      {
       "output_type": "stream",
       "stream": "stdout",
       "text": "... kept 3737769 of 4900000 , or 76 %\n... in file /test/raw-data/SRR172903.fastq.gz\n"
      },
      {
       "output_type": "stream",
       "stream": "stdout",
       "text": "... kept 3796621 of 5000000 , or 75 %\n... in file /test/raw-data/SRR172903.fastq.gz\n"
      },
      {
       "output_type": "stream",
       "stream": "stdout",
       "text": "... kept 3841452 of 5100000 , or 75 %\n... in file /test/raw-data/SRR172903.fastq.gz\n"
      },
      {
       "output_type": "stream",
       "stream": "stdout",
       "text": "... kept 3883343 of 5200000 , or 74 %\n... in file /test/raw-data/SRR172903.fastq.gz\n"
      },
      {
       "output_type": "stream",
       "stream": "stdout",
       "text": "... kept 3926327 of 5300000 , or 74 %\n... in file /test/raw-data/SRR172903.fastq.gz\n"
      },
      {
       "output_type": "stream",
       "stream": "stdout",
       "text": "... kept 3967557 of 5400000 , or 73 %\n... in file /test/raw-data/SRR172903.fastq.gz\n"
      },
      {
       "output_type": "stream",
       "stream": "stdout",
       "text": "... kept 4007282 of 5500000 , or 72 %\n... in file /test/raw-data/SRR172903.fastq.gz\n"
      },
      {
       "output_type": "stream",
       "stream": "stdout",
       "text": "... kept 4046391 of 5600000 , or 72 %\n... in file /test/raw-data/SRR172903.fastq.gz\n"
      },
      {
       "output_type": "stream",
       "stream": "stdout",
       "text": "... kept 4084792 of 5700000 , or 71 %\n... in file /test/raw-data/SRR172903.fastq.gz\n"
      },
      {
       "output_type": "stream",
       "stream": "stdout",
       "text": "... kept 4122792 of 5800000 , or 71 %\n... in file /test/raw-data/SRR172903.fastq.gz\n"
      },
      {
       "output_type": "stream",
       "stream": "stdout",
       "text": "... kept 4159952 of 5900000 , or 70 %\n... in file /test/raw-data/SRR172903.fastq.gz\n"
      },
      {
       "output_type": "stream",
       "stream": "stdout",
       "text": "... kept 4196225 of 6000000 , or 69 %\n... in file /test/raw-data/SRR172903.fastq.gz\n"
      },
      {
       "output_type": "stream",
       "stream": "stdout",
       "text": "... kept 4231920 of 6100000 , or 69 %\n... in file /test/raw-data/SRR172903.fastq.gz\n"
      },
      {
       "output_type": "stream",
       "stream": "stdout",
       "text": "... kept 4267195 of 6200000 , or 68 %\n... in file /test/raw-data/SRR172903.fastq.gz\n"
      },
      {
       "output_type": "stream",
       "stream": "stdout",
       "text": "... kept 4301540 of 6300000 , or 68 %\n... in file /test/raw-data/SRR172903.fastq.gz\n"
      },
      {
       "output_type": "stream",
       "stream": "stdout",
       "text": "... kept 4335437 of 6400000 , or 67 %\n... in file /test/raw-data/SRR172903.fastq.gz\n"
      },
      {
       "output_type": "stream",
       "stream": "stdout",
       "text": "... kept 4369518 of 6500000 , or 67 %\n... in file /test/raw-data/SRR172903.fastq.gz\n"
      },
      {
       "output_type": "stream",
       "stream": "stdout",
       "text": "... kept 4402650 of 6600000 , or 66 %\n... in file /test/raw-data/SRR172903.fastq.gz\n"
      },
      {
       "output_type": "stream",
       "stream": "stdout",
       "text": "... kept 4434925 of 6700000 , or 66 %\n... in file /test/raw-data/SRR172903.fastq.gz\n"
      },
      {
       "output_type": "stream",
       "stream": "stdout",
       "text": "... kept 4467070 of 6800000 , or 65 %\n... in file /test/raw-data/SRR172903.fastq.gz\n"
      },
      {
       "output_type": "stream",
       "stream": "stdout",
       "text": "... kept 4499248 of 6900000 , or 65 %\n... in file /test/raw-data/SRR172903.fastq.gz\n"
      },
      {
       "output_type": "stream",
       "stream": "stdout",
       "text": "... kept 4531198 of 7000000 , or 64 %\n... in file /test/raw-data/SRR172903.fastq.gz\n"
      },
      {
       "output_type": "stream",
       "stream": "stdout",
       "text": "... kept 4562298 of 7100000 , or 64 %\n... in file /test/raw-data/SRR172903.fastq.gz\n"
      },
      {
       "output_type": "stream",
       "stream": "stdout",
       "text": "... kept 4593518 of 7200000 , or 63 %\n... in file /test/raw-data/SRR172903.fastq.gz\n"
      },
      {
       "output_type": "stream",
       "stream": "stdout",
       "text": "... kept 4624607 of 7300000 , or 63 %\n... in file /test/raw-data/SRR172903.fastq.gz\n"
      },
      {
       "output_type": "stream",
       "stream": "stdout",
       "text": "... kept 4655495 of 7400000 , or 62 %\n... in file /test/raw-data/SRR172903.fastq.gz\n"
      },
      {
       "output_type": "stream",
       "stream": "stdout",
       "text": "... kept 4686324 of 7500000 , or 62 %\n... in file /test/raw-data/SRR172903.fastq.gz\n"
      },
      {
       "output_type": "stream",
       "stream": "stdout",
       "text": "... kept 4717418 of 7600000 , or 62 %\n... in file /test/raw-data/SRR172903.fastq.gz\n"
      },
      {
       "output_type": "stream",
       "stream": "stdout",
       "text": "... kept 4747864 of 7700000 , or 61 %\n... in file /test/raw-data/SRR172903.fastq.gz\n"
      },
      {
       "output_type": "stream",
       "stream": "stdout",
       "text": "... kept 4780874 of 7800000 , or 61 %\n... in file /test/raw-data/SRR172903.fastq.gz\n"
      },
      {
       "output_type": "stream",
       "stream": "stdout",
       "text": "... kept 4813815 of 7900000 , or 60 %\n... in file /test/raw-data/SRR172903.fastq.gz\n"
      },
      {
       "output_type": "stream",
       "stream": "stdout",
       "text": "DONE with /test/raw-data/SRR172903.fastq.gz ; kept 4823693 of 7932819 or 60 %\noutput in SRR172903.fastq.gz.keep\nSaving hashfile through /test/raw-data/SRR172903.fastq.gz\n...saving to /test/tutorial-files/mock-pass1.kh\n"
      },
      {
       "output_type": "stream",
       "stream": "stdout",
       "text": "fp rate estimated to be 0.000\n"
      }
     ],
     "prompt_number": 7
    },
    {
     "cell_type": "markdown",
     "source": "Check out the fp rate.  We're good to go...  What output files were produced?"
    },
    {
     "cell_type": "code",
     "input": "!ls",
     "language": "python",
     "outputs": [
      {
       "output_type": "stream",
       "stream": "stdout",
       "text": "mock-pass1.kh  pass1.report  SRR172903.fastq.gz.keep\n"
      }
     ],
     "prompt_number": 8
    },
    {
     "cell_type": "code",
     "input": "!head pass1.report",
     "language": "python",
     "outputs": [
      {
       "output_type": "stream",
       "stream": "stdout",
       "text": "100000 98471 0.98471\n200000 194971 0.974855\n300000 289555 0.965183333333\n400000 383133 0.9578325\n500000 476015 0.95203\n600000 568701 0.947835\n700000 661095 0.944421428571\n800000 753224 0.94153\n900000 845404 0.939337777778\n1000000 937527 0.937527\n"
      }
     ],
     "prompt_number": 9
    },
    {
     "cell_type": "markdown",
     "source": "You can make a graph of the rate at which diginorm eliminates reads.  What does this tell you about the diversity (or redundancy of your dataset?)"
    },
    {
     "cell_type": "markdown",
     "source": "### Pass 2: Trim off high-abundance k-mers\n\nThese are likely to be the results of Illumina crap.  Partitioning (what we do next) is much harder if you don't do this, and the assemblies may be less good.  We'll be trimming sequences where we find k-mers which are present in our dataset at a coverage greater than 50.  Note, that we should not do this without doing digital normalization first, why?\n\nThis should take ~10-15 minutes."
    },
    {
     "cell_type": "code",
     "input": "!cd /test/tutorial-files/\n",
     "language": "python",
     "outputs": [],
     "prompt_number": 10
    },
    {
     "cell_type": "code",
     "input": "!python /usr/local/src/khmer/sandbox/filter-below-abund.py /test/tutorial-files/mock-pass1.kh /test/tutorial-files/*.keep",
     "language": "python",
     "outputs": [
      {
       "output_type": "stream",
       "stream": "stdout",
       "text": "file with ht: /test/tutorial-files/mock-pass1.kh\n-- settings:\nN THREADS 8\n--\nmaking hashtable\n"
      },
      {
       "output_type": "stream",
       "stream": "stdout",
       "text": "filtering /test/tutorial-files/SRR172903.fastq.gz.keep\nstarting threads\nstarting writer\nloading...\n"
      },
      {
       "output_type": "stream",
       "stream": "stdout",
       "text": "... filtering 0\n"
      },
      {
       "output_type": "stream",
       "stream": "stdout",
       "text": "... filtering 100000\n"
      },
      {
       "output_type": "stream",
       "stream": "stdout",
       "text": "... filtering 200000\n"
      },
      {
       "output_type": "stream",
       "stream": "stdout",
       "text": "... filtering 300000\n"
      },
      {
       "output_type": "stream",
       "stream": "stdout",
       "text": "... filtering 400000\n"
      },
      {
       "output_type": "stream",
       "stream": "stdout",
       "text": "... filtering 500000\n"
      },
      {
       "output_type": "stream",
       "stream": "stdout",
       "text": "processed 500000 / wrote 497929 / removed 2071\nprocessed 37552500 bp / wrote 36330097 bp / removed 1222403 bp\ndiscarded 3.3%\n"
      },
      {
       "output_type": "stream",
       "stream": "stdout",
       "text": "... filtering 600000\n"
      },
      {
       "output_type": "stream",
       "stream": "stdout",
       "text": "... filtering 700000\n"
      },
      {
       "output_type": "stream",
       "stream": "stdout",
       "text": "... filtering 800000\n"
      },
      {
       "output_type": "stream",
       "stream": "stdout",
       "text": "... filtering 900000\n"
      },
      {
       "output_type": "stream",
       "stream": "stdout",
       "text": "... filtering 1000000\n"
      },
      {
       "output_type": "stream",
       "stream": "stdout",
       "text": "processed 1000000 / wrote 996526 / removed 3474\nprocessed 75120000 bp / wrote 72750120 bp / removed 2369880 bp\ndiscarded 3.2%\n"
      },
      {
       "output_type": "stream",
       "stream": "stdout",
       "text": "... filtering 1100000\n"
      },
      {
       "output_type": "stream",
       "stream": "stdout",
       "text": "... filtering 1200000\n"
      },
      {
       "output_type": "stream",
       "stream": "stdout",
       "text": "... filtering 1300000\n"
      },
      {
       "output_type": "stream",
       "stream": "stdout",
       "text": "... filtering 1400000\n"
      },
      {
       "output_type": "stream",
       "stream": "stdout",
       "text": "... filtering 1500000\n"
      },
      {
       "output_type": "stream",
       "stream": "stdout",
       "text": "processed 1500000 / wrote 1468336 / removed 31664\nprocessed 112627500 bp / wrote 107250936 bp / removed 5376564 bp\ndiscarded 4.8%\n"
      },
      {
       "output_type": "stream",
       "stream": "stdout",
       "text": "... filtering 1600000\n"
      },
      {
       "output_type": "stream",
       "stream": "stdout",
       "text": "... filtering 1700000\n"
      },
      {
       "output_type": "stream",
       "stream": "stdout",
       "text": "... filtering 1800000\n"
      },
      {
       "output_type": "stream",
       "stream": "stdout",
       "text": "... filtering 1900000\n"
      },
      {
       "output_type": "stream",
       "stream": "stdout",
       "text": "... filtering 2000000\n"
      },
      {
       "output_type": "stream",
       "stream": "stdout",
       "text": "processed 2000000 / wrote 1930381 / removed 69619\nprocessed 150120000 bp / wrote 141053785 bp / removed 9066215 bp\ndiscarded 6.0%\n"
      },
      {
       "output_type": "stream",
       "stream": "stdout",
       "text": "... filtering 2100000\n"
      },
      {
       "output_type": "stream",
       "stream": "stdout",
       "text": "... filtering 2200000\n"
      },
      {
       "output_type": "stream",
       "stream": "stdout",
       "text": "... filtering 2300000\n"
      },
      {
       "output_type": "stream",
       "stream": "stdout",
       "text": "... filtering 2400000\n"
      },
      {
       "output_type": "stream",
       "stream": "stdout",
       "text": "... filtering 2500000\n"
      },
      {
       "output_type": "stream",
       "stream": "stdout",
       "text": "processed 2500000 / wrote 2405056 / removed 94944\nprocessed 187635000 bp / wrote 175741929 bp / removed 11893071 bp\ndiscarded 6.3%\n"
      },
      {
       "output_type": "stream",
       "stream": "stdout",
       "text": "... filtering 2600000\n"
      },
      {
       "output_type": "stream",
       "stream": "stdout",
       "text": "... filtering 2700000\n"
      },
      {
       "output_type": "stream",
       "stream": "stdout",
       "text": "... filtering 2800000\n"
      },
      {
       "output_type": "stream",
       "stream": "stdout",
       "text": "... filtering 2900000\n"
      },
      {
       "output_type": "stream",
       "stream": "stdout",
       "text": "... filtering 3000000\n"
      },
      {
       "output_type": "stream",
       "stream": "stdout",
       "text": "processed 3000000 / wrote 2847941 / removed 152059\nprocessed 225142500 bp / wrote 208178468 bp / removed 16964032 bp\ndiscarded 7.5%\n"
      },
      {
       "output_type": "stream",
       "stream": "stdout",
       "text": "... filtering 3100000\n"
      },
      {
       "output_type": "stream",
       "stream": "stdout",
       "text": "... filtering 3200000\n"
      },
      {
       "output_type": "stream",
       "stream": "stdout",
       "text": "... filtering 3300000\n"
      },
      {
       "output_type": "stream",
       "stream": "stdout",
       "text": "... filtering 3400000\n"
      },
      {
       "output_type": "stream",
       "stream": "stdout",
       "text": "... filtering 3500000\n"
      },
      {
       "output_type": "stream",
       "stream": "stdout",
       "text": "processed 3500000 / wrote 3344495 / removed 155505\nprocessed 262650000 bp / wrote 244556162 bp / removed 18093838 bp\ndiscarded 6.9%\n"
      },
      {
       "output_type": "stream",
       "stream": "stdout",
       "text": "... filtering 3600000\n"
      },
      {
       "output_type": "stream",
       "stream": "stdout",
       "text": "... filtering 3700000\n"
      },
      {
       "output_type": "stream",
       "stream": "stdout",
       "text": "... filtering 3800000\n"
      },
      {
       "output_type": "stream",
       "stream": "stdout",
       "text": "... filtering 3900000\n"
      },
      {
       "output_type": "stream",
       "stream": "stdout",
       "text": "... filtering 4000000\n"
      },
      {
       "output_type": "stream",
       "stream": "stdout",
       "text": "processed 4000000 / wrote 3803586 / removed 196414\nprocessed 300150000 bp / wrote 278243936 bp / removed 21906064 bp\ndiscarded 7.3%\n"
      },
      {
       "output_type": "stream",
       "stream": "stdout",
       "text": "... filtering 4100000\n"
      },
      {
       "output_type": "stream",
       "stream": "stdout",
       "text": "... filtering 4200000\n"
      },
      {
       "output_type": "stream",
       "stream": "stdout",
       "text": "... filtering 4300000\n"
      },
      {
       "output_type": "stream",
       "stream": "stdout",
       "text": "... filtering 4400000\n"
      },
      {
       "output_type": "stream",
       "stream": "stdout",
       "text": "... filtering 4500000\n"
      },
      {
       "output_type": "stream",
       "stream": "stdout",
       "text": "processed 4500000 / wrote 4299172 / removed 200828\nprocessed 337620000 bp / wrote 314547692 bp / removed 23072308 bp\ndiscarded 6.8%\n"
      },
      {
       "output_type": "stream",
       "stream": "stdout",
       "text": "... filtering 4600000\n"
      },
      {
       "output_type": "stream",
       "stream": "stdout",
       "text": "... filtering 4700000\n"
      },
      {
       "output_type": "stream",
       "stream": "stdout",
       "text": "... filtering 4800000\n"
      },
      {
       "output_type": "stream",
       "stream": "stdout",
       "text": "done loading in sequences\n"
      },
      {
       "output_type": "stream",
       "stream": "stdout",
       "text": "DONE writing.\nprocessed 4817893 / wrote 4614127 / removed 203766\nprocessed 361476975 bp / wrote 337614355 bp / removed 23862620 bp\ndiscarded 6.6%\n"
      }
     ],
     "prompt_number": 11
    },
    {
     "cell_type": "markdown",
     "source": "This needs to be fixed later but for some reason our output filtered file is being saved somewhere else...we'll fix this later but for now let's just go move it to where I want it."
    },
    {
     "cell_type": "code",
     "input": "cd /test/tutorial-files/",
     "language": "python",
     "outputs": [
      {
       "output_type": "stream",
       "stream": "stdout",
       "text": "/test/tutorial-files"
      },
      {
       "output_type": "stream",
       "stream": "stdout",
       "text": "\n"
      }
     ],
     "prompt_number": 12
    },
    {
     "cell_type": "code",
     "input": "ls\n",
     "language": "python",
     "outputs": [
      {
       "output_type": "stream",
       "stream": "stdout",
       "text": "mock-pass1.kh  SRR172903.fastq.gz.keep\npass1.report   SRR172903.fastq.gz.keep.below\n"
      }
     ],
     "prompt_number": 13
    },
    {
     "cell_type": "markdown",
     "source": "Okay, now we have a set of reads which are can be assembled -- we've normalized the coverage and removed artifacts.  Sometimes, you may have a dataset that is too large to assemble on your computational resources.  If this is the case, you can partition your reads by connectivity.  That is in the next notebook, hmp-partitioning."
    },
    {
     "cell_type": "code",
     "input": "",
     "language": "python",
     "outputs": [],
     "prompt_number": 13
    }
   ]
  }
 ]
}